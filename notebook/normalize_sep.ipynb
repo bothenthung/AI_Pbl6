{
 "cells": [
  {
   "cell_type": "code",
   "execution_count": 1,
   "metadata": {},
   "outputs": [],
   "source": [
    "import re"
   ]
  },
  {
   "cell_type": "code",
   "execution_count": 109,
   "metadata": {},
   "outputs": [],
   "source": [
    "text = \"Akagi là một tàu sân bay của \\\" Hải quân Đế quốc 20 / 3 \\\" Nhật Bản hoạt động 24 % trong Chiến tranh Thế giới thứ hai , được đặt tên theo núi Akagi thuộc tỉnh Gunma .\""
   ]
  },
  {
   "cell_type": "code",
   "execution_count": 110,
   "metadata": {},
   "outputs": [
    {
     "data": {
      "text/plain": [
       "'Akagi là một tàu sân bay của \"Hải quân Đế quốc 20 / 3\" Nhật Bản hoạt động 24% trong Chiến tranh Thế giới thứ hai, được đặt tên theo núi Akagi thuộc tỉnh Gunma.'"
      ]
     },
     "execution_count": 110,
     "metadata": {},
     "output_type": "execute_result"
    }
   ],
   "source": [
    "t = re.sub(r\"(\\s*)([.,:?!;]{1})(\\s*)\", r\"\\2\\3\", text)\n",
    "t = re.sub(r\"((?P<parenthesis>\\()\\s)\", r\"\\g<parenthesis>\", t)\n",
    "t = re.sub(r\"(\\s(?P<parenthesis>\\)))\", r\"\\g<parenthesis>\", t)\n",
    "t = re.sub(r\"((?P<bracket>\\[)\\s)\", r\"\\g<bracket>\", t)\n",
    "t = re.sub(r\"(\\s(?P<bracket>\\]))\", r\"\\g<bracket>\", t)\n",
    "t = re.sub(r\"([\\'\\\"])\\s(.*)\\s([\\'\\\"])\", r\"\\1\\2\\3\", t)\n",
    "t = re.sub(r\"\\s(%)\", \"%\", t)\n",
    "t "
   ]
  }
 ],
 "metadata": {
  "kernelspec": {
   "display_name": "spell-corrector",
   "language": "python",
   "name": "python3"
  },
  "language_info": {
   "codemirror_mode": {
    "name": "ipython",
    "version": 3
   },
   "file_extension": ".py",
   "mimetype": "text/x-python",
   "name": "python",
   "nbconvert_exporter": "python",
   "pygments_lexer": "ipython3",
   "version": "3.9.5"
  },
  "orig_nbformat": 4,
  "vscode": {
   "interpreter": {
    "hash": "c2b5e216806e44ccbbdf8525d70a18c1c4fecbd3b11ca0f9625938db21926d4b"
   }
  }
 },
 "nbformat": 4,
 "nbformat_minor": 2
}
