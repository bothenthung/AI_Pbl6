{
 "cells": [
  {
   "cell_type": "code",
   "execution_count": 1,
   "metadata": {},
   "outputs": [],
   "source": [
    "import sys\n",
    "sys.path.append(\"..\")"
   ]
  },
  {
   "cell_type": "code",
   "execution_count": 2,
   "metadata": {},
   "outputs": [],
   "source": [
    "import os\n",
    "from params import *\n",
    "from dataset.vocab import Vocab\n",
    "from models.corrector import Corrector\n",
    "from models.model import ModelWrapper\n",
    "from models.util import load_weights\n",
    "import torch.nn.functional as F\n",
    "import torch\n",
    "import numpy as np"
   ]
  },
  {
   "cell_type": "code",
   "execution_count": 3,
   "metadata": {},
   "outputs": [],
   "source": [
    "model_name = \"tfmwtr\"\n",
    "dataset = \"binhvq\"\n",
    "vocab_path = f'../data/{dataset}/{dataset}.vocab.pkl'\n",
    "weight_path = f'../data/checkpoints/tfmwtr/{dataset}.weights.pth'"
   ]
  },
  {
   "cell_type": "code",
   "execution_count": 4,
   "metadata": {},
   "outputs": [],
   "source": [
    "vocab = Vocab(\"vi\")\n",
    "vocab.load_vocab_dict(vocab_path)"
   ]
  },
  {
   "cell_type": "code",
   "execution_count": 5,
   "metadata": {},
   "outputs": [
    {
     "name": "stderr",
     "output_type": "stream",
     "text": [
      "Downloading: 100%|██████████| 898/898 [00:00<00:00, 180kB/s]\n",
      "Downloading: 100%|██████████| 895k/895k [00:46<00:00, 19.2kB/s] \n",
      "Downloading: 100%|██████████| 1.14M/1.14M [00:27<00:00, 40.6kB/s]\n",
      "Special tokens have been added in the vocabulary, make sure the associated word embeddings are fine-tuned or trained.\n",
      "Downloading: 100%|██████████| 600M/600M [00:48<00:00, 12.4MB/s]   \n"
     ]
    },
    {
     "name": "stdout",
     "output_type": "stream",
     "text": [
      "Device: cpu\n",
      "Loaded model\n"
     ]
    }
   ],
   "source": [
    "model_wrapper = ModelWrapper(f\"{model_name}\", vocab)\n",
    "corrector = Corrector(model_wrapper)\n",
    "load_weights(corrector.model, weight_path)"
   ]
  },
  {
   "cell_type": "code",
   "execution_count": 6,
   "metadata": {},
   "outputs": [],
   "source": [
    "text = \"Akagi là một tàu sân bay curHảiquân De quoocs NhậtBảnhoạt động trong Chiến tran h Thế giớithứ hai , đượch đặt tên heo núi Akagi thuộctỉnh Hà Nội . Tàu được đ ặt lườn như một tàu chiến-tuần dương và thuộc l ớp Amagi , Akagi oược c ải biến thành tàu sân bay trương lú còn đang được chế tạo nhằm tuân thủ theo mhững điđu khoản của Hi ệp ướ c Hủi quân Washing ton.\""
   ]
  },
  {
   "cell_type": "code",
   "execution_count": 7,
   "metadata": {},
   "outputs": [
    {
     "name": "stdout",
     "output_type": "stream",
     "text": [
      "Original text: Akagi là một tàu sân bay curHảiquân De quoocs NhậtBảnhoạt động trong Chiến tran h Thế giớithứ hai , đượch đặt tên heo núi Akagi thuộctỉnh Hà Nội . Tàu được đ ặt lườn như một tàu chiến-tuần dương và thuộc l ớp Amagi , Akagi oược c ải biến thành tàu sân bay trương lú còn đang được chế tạo nhằm tuân thủ theo mhững điđu khoản của Hi ệp ướ c Hủi quân Washing ton.\n",
      "Predict text: Akagi là một tàu sân bay của Hải quân Đế quốc Nhật Bản hoạt động trong Chiến tranh Thế giới thứ hai , được đặt tên theo núi Akagi thuộc tỉnh Hà Nội . Tàu được đặt lên như một tàu chiến-tuần dương và thuộc lớp Amagi , Akagi được cải biến thành tàu sân bay trong lúc còn đang được chế tạo nhằm tuân thủ theo những điều khoản của Hiệp ước Hải quân Washington .\n",
      "Inference time: 10.657194375991821\n"
     ]
    }
   ],
   "source": [
    "import time\n",
    "start = time.time()\n",
    "out = corrector.correct_transfomer_with_tr(text, num_beams=1)\n",
    "out\n",
    "print(f\"Original text: {text}\")\n",
    "print(f'Predict text: {\" \".join(out[\"predict_text\"])}')\n",
    "print(f\"Inference time: {time.time() - start}\")"
   ]
  }
 ],
 "metadata": {
  "kernelspec": {
   "display_name": "Python 3.9.12 ('base')",
   "language": "python",
   "name": "python3"
  },
  "language_info": {
   "codemirror_mode": {
    "name": "ipython",
    "version": 3
   },
   "file_extension": ".py",
   "mimetype": "text/x-python",
   "name": "python",
   "nbconvert_exporter": "python",
   "pygments_lexer": "ipython3",
   "version": "3.9.12 (main, Apr  4 2022, 05:22:27) [MSC v.1916 64 bit (AMD64)]"
  },
  "orig_nbformat": 4,
  "vscode": {
   "interpreter": {
    "hash": "5b6002d1e928962cd19dde4287e8a81266a3dfa22c12012df96bb19a6e27b9c0"
   }
  }
 },
 "nbformat": 4,
 "nbformat_minor": 2
}
